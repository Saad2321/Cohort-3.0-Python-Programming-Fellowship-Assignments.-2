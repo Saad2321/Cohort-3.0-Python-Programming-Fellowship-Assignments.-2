{
 "cells": [
  {
   "cell_type": "markdown",
   "metadata": {},
   "source": [
    "Modules and Virtual Environment\n",
    "Exercises: Level 1"
   ]
  },
  {
   "cell_type": "code",
   "execution_count": 1,
   "metadata": {},
   "outputs": [
    {
     "name": "stdout",
     "output_type": "stream",
     "text": [
      "cuuule\n",
      "['5Q4SjK', 'Ez7lr2', 'BdIn5Z', 'qaHvTR', 'iT16fb', '58nUQB', 'cBaMts', 'YpIvZ8', 'Z9yrjg', 'hE2MS6', 'bziBcA', 'sgpx17', 'MbMRST', '6gta7S', 'NAYiJc', 'NAGd2t']\n",
      "rgb(158, 30, 21)\n",
      "['#54036e', '#1c1a9f', '#6e610e']\n",
      "['#a78b0b']\n",
      "['rgb(132, 51, 249)', 'rgb(11, 66, 43)', 'rgb(153, 194, 145)']\n",
      "['rgb(244, 251, 216)']\n"
     ]
    }
   ],
   "source": [
    "import random\n",
    "import string\n",
    "\n",
    "def random_user_id():\n",
    "    return ''.join(random.choices(string.ascii_letters + string.digits, k=6))\n",
    "\n",
    "print(random_user_id())\n",
    "\n",
    "def user_id_gen_by_user():\n",
    "    num_chars = int(input(\"Enter the number of characters: \"))\n",
    "    num_ids = int(input(\"Enter the number of IDs: \"))\n",
    "    ids = [''.join(random.choices(string.ascii_letters + string.digits, k=num_chars)) for _ in range(num_ids)]\n",
    "    return ids\n",
    "\n",
    "print(user_id_gen_by_user())\n",
    "\n",
    "def rgb_color_gen():\n",
    "    return f\"rgb({random.randint(0, 255)}, {random.randint(0, 255)}, {random.randint(0, 255)})\"\n",
    "\n",
    "print(rgb_color_gen())\n",
    "\n",
    "def list_of_hexa_colors(num_colors):\n",
    "    return [f\"#{''.join(random.choices('0123456789abcdef', k=6))}\" for _ in range(num_colors)]\n",
    "\n",
    "def list_of_rgb_colors(num_colors):\n",
    "    return [rgb_color_gen() for _ in range(num_colors)]\n",
    "\n",
    "def generate_colors(color_type, num_colors):\n",
    "    if color_type == 'hexa':\n",
    "        return list_of_hexa_colors(num_colors)\n",
    "    elif color_type == 'rgb':\n",
    "        return list_of_rgb_colors(num_colors)\n",
    "    else:\n",
    "        return []\n",
    "\n",
    "print(generate_colors('hexa', 3))\n",
    "print(generate_colors('hexa', 1))\n",
    "print(generate_colors('rgb', 3))\n",
    "print(generate_colors('rgb', 1))"
   ]
  },
  {
   "cell_type": "markdown",
   "metadata": {},
   "source": [
    "Exercises: Level 2\n",
    "Write a function list_of_hexa_colors which returns any number of hexadecimal colors in an array (six hexadecimal numbers written after #. Hexadecimal numeral system is made out of 16 symbols, 0-9 and first 6 letters of the alphabet, a-f. Check the task 6 for output examples).\n",
    "Write a function list_of_rgb_colors which returns any number of RGB colors in an array.\n",
    "Write a function generate_colors which can generate any number of hexa or rgb colors.\n",
    "   generate_colors('hexa', 3) # ['#a3e12f','#03ed55','#eb3d2b'] \n",
    "   generate_colors('hexa', 1) # ['#b334ef']\n",
    "   generate_colors('rgb', 3)  # ['rgb(5, 55, 175','rgb(50, 105, 100','rgb(15, 26, 80'] \n",
    "   generate_colors('rgb', 1)  # ['rgb(33,79, 176)']"
   ]
  },
  {
   "cell_type": "code",
   "execution_count": 2,
   "metadata": {
    "vscode": {
     "languageId": "ruby"
    }
   },
   "outputs": [
    {
     "name": "stdout",
     "output_type": "stream",
     "text": [
      "['#c21db6', '#6954a1', '#f3df3f']\n",
      "['#5bdda2']\n",
      "['rgb(85, 123, 159)', 'rgb(152, 205, 152)', 'rgb(78, 38, 170)']\n",
      "['rgb(159, 67, 32)']\n"
     ]
    }
   ],
   "source": [
    "# Generate 3 hexadecimal colors\n",
    "print(generate_colors('hexa', 3))  # ['#a3e12f','#03ed55','#eb3d2b']\n",
    "\n",
    "# Generate 1 hexadecimal color\n",
    "print(generate_colors('hexa', 1))  # ['#b334ef']\n",
    "\n",
    "# Generate 3 RGB colors\n",
    "print(generate_colors('rgb', 3))  # ['rgb(5, 55, 175','rgb(50, 105, 100','rgb(15, 26, 80']\n",
    "\n",
    "# Generate 1 RGB color\n",
    "print(generate_colors('rgb', 1))  # ['rgb(33,79, 176)']"
   ]
  },
  {
   "cell_type": "markdown",
   "metadata": {},
   "source": [
    "Exercises: Level 3\n",
    "Call your function shuffle_list, it takes a list as a parameter and it returns a shuffled list\n",
    "Write a function which returns an array of seven random numbers in a range of 0-9. All the numbers must be unique."
   ]
  },
  {
   "cell_type": "code",
   "execution_count": 3,
   "metadata": {},
   "outputs": [
    {
     "name": "stdout",
     "output_type": "stream",
     "text": [
      "[4, 5, 3, 1, 7, 6, 9, 8, 2]\n",
      "[6, 4, 7, 3, 9, 5, 2]\n"
     ]
    }
   ],
   "source": [
    "def shuffle_list(lst):\n",
    "    random.shuffle(lst)\n",
    "    return lst\n",
    "\n",
    "print(shuffle_list([1, 2, 3, 4, 5, 6, 7, 8, 9]))\n",
    "\n",
    "def unique_random_numbers():\n",
    "    return random.sample(range(10), 7)\n",
    "\n",
    "print(unique_random_numbers())"
   ]
  },
  {
   "cell_type": "markdown",
   "metadata": {},
   "source": [
    "Virtual Environment Exercises\n",
    "Create a project directory with a virtual environment based on the example given above."
   ]
  }
 ],
 "metadata": {
  "kernelspec": {
   "display_name": "Python 3",
   "language": "python",
   "name": "python3"
  },
  "language_info": {
   "codemirror_mode": {
    "name": "ipython",
    "version": 3
   },
   "file_extension": ".py",
   "mimetype": "text/x-python",
   "name": "python",
   "nbconvert_exporter": "python",
   "pygments_lexer": "ipython3",
   "version": "3.13.1"
  }
 },
 "nbformat": 4,
 "nbformat_minor": 2
}
